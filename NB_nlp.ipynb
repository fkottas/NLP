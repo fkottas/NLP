{
  "cells": [
    {
      "cell_type": "markdown",
      "metadata": {
        "id": "JzHdAB1sCQVX"
      },
      "source": [
        "Before you turn this problem in, make sure everything runs as expected. First, **restart the kernel** (in the menubar, select Kernel $\\rightarrow$ Restart) and then **run all cells** (in the menubar, select Cell $\\rightarrow$ Run All).\n",
        "\n",
        "Make sure you fill in any place that says `YOUR CODE HERE` removing 'raise NotImplementedError()'. Make sure you also fill your student id below:"
      ]
    },
    {
      "cell_type": "code",
      "execution_count": null,
      "metadata": {
        "id": "fnVblCtMCQVa"
      },
      "outputs": [],
      "source": [
        "STUDENT_ID = \"128\""
      ]
    },
    {
      "cell_type": "markdown",
      "metadata": {
        "id": "QlfeQj2DCQVa"
      },
      "source": [
        "---"
      ]
    },
    {
      "cell_type": "markdown",
      "metadata": {
        "deletable": false,
        "editable": false,
        "nbgrader": {
          "checksum": "4a1193d302673ed03ffe8d72bacef704",
          "grade": false,
          "grade_id": "cell-dee92b59ef3aa838",
          "locked": true,
          "schema_version": 3,
          "solution": false,
          "task": false
        },
        "id": "din70B9NCQVb"
      },
      "source": [
        "## Introductory code"
      ]
    },
    {
      "cell_type": "code",
      "execution_count": 1,
      "metadata": {
        "deletable": false,
        "editable": false,
        "nbgrader": {
          "checksum": "ea331d4ee2b2a3cdf8ae1ce9fd3d7dd1",
          "grade": false,
          "grade_id": "cell-e65efc47faca357c",
          "locked": true,
          "schema_version": 3,
          "solution": false,
          "task": false
        },
        "colab": {
          "base_uri": "https://localhost:8080/"
        },
        "id": "ELqEGzssCQVb",
        "outputId": "5190bd19-4d3c-43de-dbaf-09a768ea1979"
      },
      "outputs": [
        {
          "output_type": "stream",
          "name": "stderr",
          "text": [
            "[nltk_data] Downloading package punkt to /root/nltk_data...\n",
            "[nltk_data]   Unzipping tokenizers/punkt.zip.\n"
          ]
        }
      ],
      "source": [
        "import nltk\n",
        "import math\n",
        "nltk.download('punkt')\n",
        "from nltk import punkt\n",
        "\n",
        "docs = []\n",
        "docs.append(['just plain boring', 'entirely predictable and lacks energy', 'no surprises and very few laugs'])\n",
        "docs.append(['very powerful', 'the most fun film of the summer'])\n",
        "test_doc = 'the film was predictable with no fun'"
      ]
    },
    {
      "cell_type": "markdown",
      "metadata": {
        "deletable": false,
        "editable": false,
        "nbgrader": {
          "checksum": "fe8bedcdbc5ea460af242dabcdbc2d7d",
          "grade": false,
          "grade_id": "cell-a6d4ea09366a974d",
          "locked": true,
          "schema_version": 3,
          "solution": false,
          "task": false
        },
        "id": "OVG0zzUmCQVb"
      },
      "source": [
        "## Implement Multinomial NB Extensions"
      ]
    },
    {
      "cell_type": "markdown",
      "metadata": {
        "deletable": false,
        "editable": false,
        "nbgrader": {
          "checksum": "264bb2a381b6063bfefc1e125a11fcc3",
          "grade": false,
          "grade_id": "cell-25e45b86e176af33",
          "locked": true,
          "schema_version": 3,
          "solution": false,
          "task": false
        },
        "id": "WfnEB3ogCQVb"
      },
      "source": [
        "We will here build a class for three variations of NB: a) Multinomial NB, b) Binary Multinomial NB. c) Multivariate Bernoulli NB. We are giving you (a). You must complete (b) activated with constructor parameter binary=True and (c) activated with constructor parameter bernoulli=true."
      ]
    },
    {
      "cell_type": "code",
      "execution_count": 11,
      "metadata": {
        "deletable": false,
        "nbgrader": {
          "checksum": "d06dda50bc715a6ad29ecdb3031bbc6b",
          "grade": false,
          "grade_id": "cell-1f6327f4e44d0c2b",
          "locked": false,
          "schema_version": 3,
          "solution": true,
          "task": false
        },
        "id": "KX3dvAnBCQVb",
        "colab": {
          "base_uri": "https://localhost:8080/"
        },
        "outputId": "48ba9755-e415-474e-95a2-17ea39a5e413"
      },
      "outputs": [
        {
          "output_type": "stream",
          "name": "stderr",
          "text": [
            "[nltk_data] Downloading package punkt_tab to /root/nltk_data...\n",
            "[nltk_data]   Package punkt_tab is already up-to-date!\n"
          ]
        }
      ],
      "source": [
        "from enum import Enum\n",
        "# Download the required resource\n",
        "nltk.download('punkt_tab')\n",
        "from collections import Counter\n",
        "\n",
        "\n",
        "class Mode(Enum):\n",
        "    MULTINOMIAL = 1\n",
        "    BINARY_MULTINOMIAL = 2\n",
        "    BERNOULLI = 3\n",
        "\n",
        "class NB():\n",
        "    def __init__(self, mode: Mode):\n",
        "        \"\"\"\n",
        "        Initializes the Naive Bayes classifier.\n",
        "        :param mode: Mode of Naive Bayes (MULTINOMIAL, BINARY_MULTINOMIAL, BERNOULLI)\n",
        "        \"\"\"\n",
        "        self.mode = mode\n",
        "\n",
        "    def fit(self, docs):\n",
        "        \"\"\"\n",
        "        Fits the model to the given documents.\n",
        "        :param docs: List of lists, where each inner list contains documents for a class.\n",
        "        \"\"\"\n",
        "        self.num_classes = len(docs)\n",
        "        self.priors = [len(c) / sum(len(c) for c in docs) for c in docs]\n",
        "        self.vocabulary = set()\n",
        "        self.counts = []\n",
        "\n",
        "        for class_docs in docs:\n",
        "            tokenized_docs = [\n",
        "                set(nltk.word_tokenize(doc)) if self.mode != Mode.MULTINOMIAL else nltk.word_tokenize(doc)\n",
        "                for doc in class_docs\n",
        "            ]\n",
        "            class_tokens = [token for doc in tokenized_docs for token in doc]\n",
        "            self.vocabulary.update(class_tokens)\n",
        "            self.counts.append(Counter(class_tokens))\n",
        "\n",
        "        self.vocabulary = list(self.vocabulary)\n",
        "        vocab_size = len(self.vocabulary)\n",
        "\n",
        "        self.probs = [\n",
        "            {\n",
        "                token: (class_count.get(token, 0) + 1) / (sum(class_count.values()) + vocab_size)\n",
        "                for token in self.vocabulary\n",
        "            } if self.mode != Mode.BERNOULLI else {\n",
        "                token: (class_count.get(token, 0) + 1) / (len(docs[i]) + 2)\n",
        "                for token in self.vocabulary\n",
        "            }\n",
        "            for i, class_count in enumerate(self.counts)\n",
        "        ]\n",
        "\n",
        "    def predict_proba(self, doc):\n",
        "        \"\"\"\n",
        "        Predicts the probabilities for the given document.\n",
        "        :param doc: The document to classify (string).\n",
        "        :return: List of probabilities for each class.\n",
        "        \"\"\"\n",
        "        tokens = set(nltk.word_tokenize(doc)) if self.mode != Mode.MULTINOMIAL else nltk.word_tokenize(doc)\n",
        "        scores = []\n",
        "\n",
        "        for i in range(self.num_classes):\n",
        "            score = math.log(self.priors[i])\n",
        "            for token in self.vocabulary:\n",
        "                prob = self.probs[i].get(token, 1e-10)\n",
        "                score += math.log(prob if token in tokens else 1 - prob if self.mode == Mode.BERNOULLI else 1)\n",
        "            scores.append(score)\n",
        "\n",
        "        total_score = sum(math.exp(s) for s in scores)\n",
        "        return [math.exp(s) / total_score for s in scores]"
      ]
    },
    {
      "cell_type": "code",
      "execution_count": 12,
      "metadata": {
        "deletable": false,
        "editable": false,
        "nbgrader": {
          "checksum": "120628ff0980658be7a82f79405f4380",
          "grade": true,
          "grade_id": "cell-4cdaf5a0e50e9e29",
          "locked": true,
          "points": 0,
          "schema_version": 3,
          "solution": false,
          "task": false
        },
        "id": "SLOq97fTCQVc"
      },
      "outputs": [],
      "source": [
        "\"\"\"Testing that the class implementation returns the correct results for the given standard multinomial implementation\"\"\"\n",
        "mnb = NB(mode=Mode.MULTINOMIAL)\n",
        "mnb.fit(docs)\n",
        "assert round(mnb.predict_proba('the film was predictable with no fun')[0], 6) == 0.184151"
      ]
    },
    {
      "cell_type": "code",
      "execution_count": 13,
      "metadata": {
        "deletable": false,
        "editable": false,
        "nbgrader": {
          "checksum": "1044672fc656bcfa2570877ded8fad15",
          "grade": true,
          "grade_id": "cell-7011f80019607313",
          "locked": true,
          "points": 5,
          "schema_version": 3,
          "solution": false,
          "task": false
        },
        "id": "5R7FhZrCCQVc"
      },
      "outputs": [],
      "source": [
        "\"\"\"Testing that the class implementation returns the correct results for the binary multinomial version\"\"\"\n",
        "mnb = NB(mode=Mode.BINARY_MULTINOMIAL)\n",
        "mnb.fit(docs)\n",
        "assert round(mnb.predict_proba('the film was predictable with no fun')[0], 6) == 0.221239"
      ]
    },
    {
      "cell_type": "code",
      "execution_count": 14,
      "metadata": {
        "deletable": false,
        "editable": false,
        "nbgrader": {
          "checksum": "f4790adfbb05a1b940936b9fda7cdc2f",
          "grade": true,
          "grade_id": "cell-2c7323704caceecc",
          "locked": true,
          "points": 5,
          "schema_version": 3,
          "solution": false,
          "task": false
        },
        "id": "O5hCzAt-CQVc"
      },
      "outputs": [],
      "source": [
        "\"\"\"Testing that the class implementation returns the correct results for the Bernoulli version\"\"\"\n",
        "mnb = NB(mode=Mode.BERNOULLI)\n",
        "mnb.fit(docs)\n",
        "assert round(mnb.predict_proba('the film was predictable with no fun')[0], 6) == 0.121536"
      ]
    }
  ],
  "metadata": {
    "kernelspec": {
      "display_name": "Python 3 (ipykernel)",
      "language": "python",
      "name": "python3"
    },
    "language_info": {
      "codemirror_mode": {
        "name": "ipython",
        "version": 3
      },
      "file_extension": ".py",
      "mimetype": "text/x-python",
      "name": "python",
      "nbconvert_exporter": "python",
      "pygments_lexer": "ipython3",
      "version": "3.12.3"
    },
    "colab": {
      "provenance": []
    }
  },
  "nbformat": 4,
  "nbformat_minor": 0
}